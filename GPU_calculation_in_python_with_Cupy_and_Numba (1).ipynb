{
 "cells": [
  {
   "cell_type": "code",
   "execution_count": 43,
   "metadata": {
    "id": "yZU3XYbM4s41"
   },
   "outputs": [
    {
     "name": "stdout",
     "output_type": "stream",
     "text": [
      "Requirement already satisfied: cupy-cuda115 in c:\\users\\crvv0\\anaconda3\\lib\\site-packages (9.6.0)\n",
      "Requirement already satisfied: fastrlock>=0.5 in c:\\users\\crvv0\\anaconda3\\lib\\site-packages (from cupy-cuda115) (0.8)\n",
      "Requirement already satisfied: numpy<1.24,>=1.17 in c:\\users\\crvv0\\anaconda3\\lib\\site-packages (from cupy-cuda115) (1.20.1)\n",
      "Note: you may need to restart the kernel to use updated packages.\n"
     ]
    }
   ],
   "source": [
    "pip install cupy-cuda115"
   ]
  },
  {
   "cell_type": "code",
   "execution_count": 1,
   "metadata": {
    "id": "vKtSX7K16op9"
   },
   "outputs": [],
   "source": [
    "import numpy as np\n",
    "import cupy as cp\n",
    "from numba import cuda"
   ]
  },
  {
   "cell_type": "markdown",
   "metadata": {
    "id": "ZLpDDI9sBRVb"
   },
   "source": [
    "## Getting device information\n",
    "Additional GPU properties can be found as detailed in this stackoverflow thread: https://stackoverflow.com/questions/62457151/access-gpu-hardware-specifications-in-python. This GPU has 16 GB of RAM."
   ]
  },
  {
   "cell_type": "code",
   "execution_count": 2,
   "metadata": {
    "colab": {
     "base_uri": "https://localhost:8080/"
    },
    "id": "mhnDb4qS65Um",
    "outputId": "8315abbe-13fd-4262-be7a-8bb72c237618"
   },
   "outputs": [
    {
     "name": "stdout",
     "output_type": "stream",
     "text": [
      "Found 1 CUDA devices\n",
      "id 0    b'NVIDIA GeForce GTX 1060 6GB'                              [SUPPORTED]\n",
      "                      compute capability: 6.1\n",
      "                           pci device id: 0\n",
      "                              pci bus id: 6\n",
      "Summary:\n",
      "\t1/1 devices are supported\n"
     ]
    },
    {
     "data": {
      "text/plain": [
       "True"
      ]
     },
     "execution_count": 2,
     "metadata": {},
     "output_type": "execute_result"
    }
   ],
   "source": [
    "cuda.detect()"
   ]
  },
  {
   "cell_type": "markdown",
   "metadata": {
    "id": "tz0s1Jol8J6W"
   },
   "source": [
    "## Sending data to the GPU"
   ]
  },
  {
   "cell_type": "code",
   "execution_count": 3,
   "metadata": {
    "id": "hHcK73fL6yuC"
   },
   "outputs": [],
   "source": [
    "array_cpu = np.random.randint(0, 255, size=(4000, 4000))"
   ]
  },
  {
   "cell_type": "code",
   "execution_count": 4,
   "metadata": {
    "colab": {
     "base_uri": "https://localhost:8080/"
    },
    "id": "cavkv4lXCSMi",
    "outputId": "57eea2b6-f61a-43ac-cd1b-f21e2ce2339d"
   },
   "outputs": [
    {
     "data": {
      "text/plain": [
       "64.0"
      ]
     },
     "execution_count": 4,
     "metadata": {},
     "output_type": "execute_result"
    }
   ],
   "source": [
    "array_cpu.nbytes / 1e6"
   ]
  },
  {
   "cell_type": "code",
   "execution_count": 5,
   "metadata": {
    "id": "4PMqrN5ZB-8p"
   },
   "outputs": [],
   "source": [
    "array_gpu = cp.asarray(array_cpu)"
   ]
  },
  {
   "cell_type": "code",
   "execution_count": 6,
   "metadata": {
    "colab": {
     "base_uri": "https://localhost:8080/"
    },
    "id": "McbJmJAiB1q-",
    "outputId": "be3896da-93fd-42c0-8686-1df48d9a0885"
   },
   "outputs": [
    {
     "name": "stdout",
     "output_type": "stream",
     "text": [
      "7.61 ms ± 204 µs per loop (mean ± std. dev. of 7 runs, 100 loops each)\n"
     ]
    }
   ],
   "source": [
    "%%timeit\n",
    "\n",
    "cp.asarray(array_cpu)"
   ]
  },
  {
   "cell_type": "code",
   "execution_count": 7,
   "metadata": {
    "colab": {
     "base_uri": "https://localhost:8080/"
    },
    "id": "lLv71Q-VB1cQ",
    "outputId": "50c45652-16c7-4640-e503-27eba2f86b16"
   },
   "outputs": [
    {
     "data": {
      "text/plain": [
       "cupy._core.core.ndarray"
      ]
     },
     "execution_count": 7,
     "metadata": {},
     "output_type": "execute_result"
    }
   ],
   "source": [
    "type(array_gpu)"
   ]
  },
  {
   "cell_type": "code",
   "execution_count": 8,
   "metadata": {
    "id": "4lmzjJqPDtzr"
   },
   "outputs": [],
   "source": [
    "from scipy import fft"
   ]
  },
  {
   "cell_type": "code",
   "execution_count": 9,
   "metadata": {
    "colab": {
     "base_uri": "https://localhost:8080/"
    },
    "id": "YQeSM94lB1Lu",
    "outputId": "006c1505-a6aa-4dac-b391-1e251177a7cd"
   },
   "outputs": [
    {
     "name": "stdout",
     "output_type": "stream",
     "text": [
      "445 ms ± 10.1 ms per loop (mean ± std. dev. of 7 runs, 1 loop each)\n"
     ]
    }
   ],
   "source": [
    "%%timeit\n",
    "\n",
    "fft.fftn(array_cpu)"
   ]
  },
  {
   "cell_type": "code",
   "execution_count": 10,
   "metadata": {
    "id": "e6aDtc0UDsEF"
   },
   "outputs": [],
   "source": [
    "from cupyx.scipy import fft as fft_gpu"
   ]
  },
  {
   "cell_type": "code",
   "execution_count": 11,
   "metadata": {
    "colab": {
     "base_uri": "https://localhost:8080/"
    },
    "id": "6uDN3wqqC2CO",
    "outputId": "db483831-78a9-4f47-fce7-8d5b90b3caf4"
   },
   "outputs": [
    {
     "name": "stdout",
     "output_type": "stream",
     "text": [
      "102 µs ± 29.6 µs per loop (mean ± std. dev. of 7 runs, 1 loop each)\n"
     ]
    }
   ],
   "source": [
    "%%timeit\n",
    "\n",
    "fft_gpu.fftn(array_gpu)"
   ]
  },
  {
   "cell_type": "code",
   "execution_count": 12,
   "metadata": {
    "colab": {
     "base_uri": "https://localhost:8080/"
    },
    "id": "6JAcgHhDC1z9",
    "outputId": "108b3ec1-13a7-4166-da82-6029806574b9"
   },
   "outputs": [
    {
     "data": {
      "text/plain": [
       "True"
      ]
     },
     "execution_count": 12,
     "metadata": {},
     "output_type": "execute_result"
    }
   ],
   "source": [
    "fft_cpu = fft.fftn(array_cpu)\n",
    "fft_sent_back = cp.asnumpy(fft_gpu.fftn(array_gpu))\n",
    "np.allclose(fft_sent_back, fft_cpu)"
   ]
  },
  {
   "cell_type": "code",
   "execution_count": 14,
   "metadata": {
    "colab": {
     "base_uri": "https://localhost:8080/",
     "height": 396
    },
    "id": "XFqkFMkBC1m1",
    "outputId": "8a7a3a09-c219-41e5-82dc-02484676746c"
   },
   "outputs": [
    {
     "ename": "TypeError",
     "evalue": "Implicit conversion to a NumPy array is not allowed. Please use `.get()` to construct a NumPy array explicitly.",
     "output_type": "error",
     "traceback": [
      "\u001b[1;31m---------------------------------------------------------------------------\u001b[0m",
      "\u001b[1;31mTypeError\u001b[0m                                 Traceback (most recent call last)",
      "\u001b[1;32m<ipython-input-14-1fc5cbded38e>\u001b[0m in \u001b[0;36m<module>\u001b[1;34m\u001b[0m\n\u001b[0;32m      1\u001b[0m \u001b[1;31m# this will fail\u001b[0m\u001b[1;33m\u001b[0m\u001b[1;33m\u001b[0m\u001b[1;33m\u001b[0m\u001b[0m\n\u001b[1;32m----> 2\u001b[1;33m \u001b[0mfft\u001b[0m\u001b[1;33m.\u001b[0m\u001b[0mfftn\u001b[0m\u001b[1;33m(\u001b[0m\u001b[0marray_gpu\u001b[0m\u001b[1;33m)\u001b[0m\u001b[1;33m\u001b[0m\u001b[1;33m\u001b[0m\u001b[0m\n\u001b[0m",
      "\u001b[1;32m~\\anaconda3\\lib\\site-packages\\scipy\\fft\\_backend.py\u001b[0m in \u001b[0;36m__ua_function__\u001b[1;34m(method, args, kwargs)\u001b[0m\n\u001b[0;32m     21\u001b[0m         \u001b[1;32mif\u001b[0m \u001b[0mfn\u001b[0m \u001b[1;32mis\u001b[0m \u001b[1;32mNone\u001b[0m\u001b[1;33m:\u001b[0m\u001b[1;33m\u001b[0m\u001b[1;33m\u001b[0m\u001b[0m\n\u001b[0;32m     22\u001b[0m             \u001b[1;32mreturn\u001b[0m \u001b[0mNotImplemented\u001b[0m\u001b[1;33m\u001b[0m\u001b[1;33m\u001b[0m\u001b[0m\n\u001b[1;32m---> 23\u001b[1;33m         \u001b[1;32mreturn\u001b[0m \u001b[0mfn\u001b[0m\u001b[1;33m(\u001b[0m\u001b[1;33m*\u001b[0m\u001b[0margs\u001b[0m\u001b[1;33m,\u001b[0m \u001b[1;33m**\u001b[0m\u001b[0mkwargs\u001b[0m\u001b[1;33m)\u001b[0m\u001b[1;33m\u001b[0m\u001b[1;33m\u001b[0m\u001b[0m\n\u001b[0m\u001b[0;32m     24\u001b[0m \u001b[1;33m\u001b[0m\u001b[0m\n\u001b[0;32m     25\u001b[0m \u001b[1;33m\u001b[0m\u001b[0m\n",
      "\u001b[1;32m~\\anaconda3\\lib\\site-packages\\scipy\\fft\\_pocketfft\\basic.py\u001b[0m in \u001b[0;36mc2cn\u001b[1;34m(forward, x, s, axes, norm, overwrite_x, workers, plan)\u001b[0m\n\u001b[0;32m    178\u001b[0m         raise NotImplementedError('Passing a precomputed plan is not yet '\n\u001b[0;32m    179\u001b[0m                                   'supported by scipy.fft functions')\n\u001b[1;32m--> 180\u001b[1;33m     \u001b[0mtmp\u001b[0m \u001b[1;33m=\u001b[0m \u001b[0m_asfarray\u001b[0m\u001b[1;33m(\u001b[0m\u001b[0mx\u001b[0m\u001b[1;33m)\u001b[0m\u001b[1;33m\u001b[0m\u001b[1;33m\u001b[0m\u001b[0m\n\u001b[0m\u001b[0;32m    181\u001b[0m \u001b[1;33m\u001b[0m\u001b[0m\n\u001b[0;32m    182\u001b[0m     \u001b[0mshape\u001b[0m\u001b[1;33m,\u001b[0m \u001b[0maxes\u001b[0m \u001b[1;33m=\u001b[0m \u001b[0m_init_nd_shape_and_axes\u001b[0m\u001b[1;33m(\u001b[0m\u001b[0mtmp\u001b[0m\u001b[1;33m,\u001b[0m \u001b[0ms\u001b[0m\u001b[1;33m,\u001b[0m \u001b[0maxes\u001b[0m\u001b[1;33m)\u001b[0m\u001b[1;33m\u001b[0m\u001b[1;33m\u001b[0m\u001b[0m\n",
      "\u001b[1;32m~\\anaconda3\\lib\\site-packages\\scipy\\fft\\_pocketfft\\helper.py\u001b[0m in \u001b[0;36m_asfarray\u001b[1;34m(x)\u001b[0m\n\u001b[0;32m     90\u001b[0m         \u001b[1;32mreturn\u001b[0m \u001b[0mnp\u001b[0m\u001b[1;33m.\u001b[0m\u001b[0masarray\u001b[0m\u001b[1;33m(\u001b[0m\u001b[0mx\u001b[0m\u001b[1;33m,\u001b[0m \u001b[0mnp\u001b[0m\u001b[1;33m.\u001b[0m\u001b[0mfloat32\u001b[0m\u001b[1;33m)\u001b[0m\u001b[1;33m\u001b[0m\u001b[1;33m\u001b[0m\u001b[0m\n\u001b[0;32m     91\u001b[0m     \u001b[1;32melif\u001b[0m \u001b[0mx\u001b[0m\u001b[1;33m.\u001b[0m\u001b[0mdtype\u001b[0m\u001b[1;33m.\u001b[0m\u001b[0mkind\u001b[0m \u001b[1;32mnot\u001b[0m \u001b[1;32min\u001b[0m \u001b[1;34m'fc'\u001b[0m\u001b[1;33m:\u001b[0m\u001b[1;33m\u001b[0m\u001b[1;33m\u001b[0m\u001b[0m\n\u001b[1;32m---> 92\u001b[1;33m         \u001b[1;32mreturn\u001b[0m \u001b[0mnp\u001b[0m\u001b[1;33m.\u001b[0m\u001b[0masarray\u001b[0m\u001b[1;33m(\u001b[0m\u001b[0mx\u001b[0m\u001b[1;33m,\u001b[0m \u001b[0mnp\u001b[0m\u001b[1;33m.\u001b[0m\u001b[0mfloat64\u001b[0m\u001b[1;33m)\u001b[0m\u001b[1;33m\u001b[0m\u001b[1;33m\u001b[0m\u001b[0m\n\u001b[0m\u001b[0;32m     93\u001b[0m \u001b[1;33m\u001b[0m\u001b[0m\n\u001b[0;32m     94\u001b[0m     \u001b[1;31m# Require native byte order\u001b[0m\u001b[1;33m\u001b[0m\u001b[1;33m\u001b[0m\u001b[1;33m\u001b[0m\u001b[0m\n",
      "\u001b[1;32m~\\anaconda3\\lib\\site-packages\\numpy\\core\\_asarray.py\u001b[0m in \u001b[0;36masarray\u001b[1;34m(a, dtype, order, like)\u001b[0m\n\u001b[0;32m    100\u001b[0m         \u001b[1;32mreturn\u001b[0m \u001b[0m_asarray_with_like\u001b[0m\u001b[1;33m(\u001b[0m\u001b[0ma\u001b[0m\u001b[1;33m,\u001b[0m \u001b[0mdtype\u001b[0m\u001b[1;33m=\u001b[0m\u001b[0mdtype\u001b[0m\u001b[1;33m,\u001b[0m \u001b[0morder\u001b[0m\u001b[1;33m=\u001b[0m\u001b[0morder\u001b[0m\u001b[1;33m,\u001b[0m \u001b[0mlike\u001b[0m\u001b[1;33m=\u001b[0m\u001b[0mlike\u001b[0m\u001b[1;33m)\u001b[0m\u001b[1;33m\u001b[0m\u001b[1;33m\u001b[0m\u001b[0m\n\u001b[0;32m    101\u001b[0m \u001b[1;33m\u001b[0m\u001b[0m\n\u001b[1;32m--> 102\u001b[1;33m     \u001b[1;32mreturn\u001b[0m \u001b[0marray\u001b[0m\u001b[1;33m(\u001b[0m\u001b[0ma\u001b[0m\u001b[1;33m,\u001b[0m \u001b[0mdtype\u001b[0m\u001b[1;33m,\u001b[0m \u001b[0mcopy\u001b[0m\u001b[1;33m=\u001b[0m\u001b[1;32mFalse\u001b[0m\u001b[1;33m,\u001b[0m \u001b[0morder\u001b[0m\u001b[1;33m=\u001b[0m\u001b[0morder\u001b[0m\u001b[1;33m)\u001b[0m\u001b[1;33m\u001b[0m\u001b[1;33m\u001b[0m\u001b[0m\n\u001b[0m\u001b[0;32m    103\u001b[0m \u001b[1;33m\u001b[0m\u001b[0m\n\u001b[0;32m    104\u001b[0m \u001b[1;33m\u001b[0m\u001b[0m\n",
      "\u001b[1;32mcupy\\_core\\core.pyx\u001b[0m in \u001b[0;36mcupy._core.core.ndarray.__array__\u001b[1;34m()\u001b[0m\n",
      "\u001b[1;31mTypeError\u001b[0m: Implicit conversion to a NumPy array is not allowed. Please use `.get()` to construct a NumPy array explicitly."
     ]
    }
   ],
   "source": [
    "# this will fail\n",
    "fft.fftn(array_gpu)"
   ]
  },
  {
   "cell_type": "code",
   "execution_count": 15,
   "metadata": {
    "colab": {
     "base_uri": "https://localhost:8080/",
     "height": 357
    },
    "id": "db-_6ZkTEE3W",
    "outputId": "045287dc-4ee9-42a7-cf56-fa7a03ddb532"
   },
   "outputs": [
    {
     "ename": "TypeError",
     "evalue": "The input array a must be a cupy.ndarray",
     "output_type": "error",
     "traceback": [
      "\u001b[1;31m---------------------------------------------------------------------------\u001b[0m",
      "\u001b[1;31mTypeError\u001b[0m                                 Traceback (most recent call last)",
      "\u001b[1;32m<ipython-input-15-8bba16a2a4e4>\u001b[0m in \u001b[0;36m<module>\u001b[1;34m\u001b[0m\n\u001b[0;32m      1\u001b[0m \u001b[1;31m# this will also fail\u001b[0m\u001b[1;33m\u001b[0m\u001b[1;33m\u001b[0m\u001b[1;33m\u001b[0m\u001b[0m\n\u001b[1;32m----> 2\u001b[1;33m \u001b[0mfft_gpu\u001b[0m\u001b[1;33m.\u001b[0m\u001b[0mfftn\u001b[0m\u001b[1;33m(\u001b[0m\u001b[0marray_cpu\u001b[0m\u001b[1;33m)\u001b[0m\u001b[1;33m\u001b[0m\u001b[1;33m\u001b[0m\u001b[0m\n\u001b[0m",
      "\u001b[1;32m~\\anaconda3\\lib\\site-packages\\cupyx\\scipy\\fft\\_fft.py\u001b[0m in \u001b[0;36mfftn\u001b[1;34m(x, s, axes, norm, overwrite_x, plan)\u001b[0m\n\u001b[0;32m    247\u001b[0m     \u001b[0maxes\u001b[0m \u001b[1;33m=\u001b[0m \u001b[0m_assequence\u001b[0m\u001b[1;33m(\u001b[0m\u001b[0maxes\u001b[0m\u001b[1;33m)\u001b[0m\u001b[1;33m\u001b[0m\u001b[1;33m\u001b[0m\u001b[0m\n\u001b[0;32m    248\u001b[0m     \u001b[0mfunc\u001b[0m \u001b[1;33m=\u001b[0m \u001b[0m_default_fft_func\u001b[0m\u001b[1;33m(\u001b[0m\u001b[0mx\u001b[0m\u001b[1;33m,\u001b[0m \u001b[0ms\u001b[0m\u001b[1;33m,\u001b[0m \u001b[0maxes\u001b[0m\u001b[1;33m)\u001b[0m\u001b[1;33m\u001b[0m\u001b[1;33m\u001b[0m\u001b[0m\n\u001b[1;32m--> 249\u001b[1;33m     return func(x, s, axes, norm, cufft.CUFFT_FORWARD, overwrite_x=overwrite_x,\n\u001b[0m\u001b[0;32m    250\u001b[0m                 plan=plan)\n\u001b[0;32m    251\u001b[0m \u001b[1;33m\u001b[0m\u001b[0m\n",
      "\u001b[1;32m~\\anaconda3\\lib\\site-packages\\cupy\\fft\\_fft.py\u001b[0m in \u001b[0;36m_fftn\u001b[1;34m(a, s, axes, norm, direction, value_type, order, plan, overwrite_x, out)\u001b[0m\n\u001b[0;32m    573\u001b[0m           overwrite_x=False, out=None):\n\u001b[0;32m    574\u001b[0m     \u001b[1;32mif\u001b[0m \u001b[1;32mnot\u001b[0m \u001b[0misinstance\u001b[0m\u001b[1;33m(\u001b[0m\u001b[0ma\u001b[0m\u001b[1;33m,\u001b[0m \u001b[0mcupy\u001b[0m\u001b[1;33m.\u001b[0m\u001b[0mndarray\u001b[0m\u001b[1;33m)\u001b[0m\u001b[1;33m:\u001b[0m\u001b[1;33m\u001b[0m\u001b[1;33m\u001b[0m\u001b[0m\n\u001b[1;32m--> 575\u001b[1;33m         \u001b[1;32mraise\u001b[0m \u001b[0mTypeError\u001b[0m\u001b[1;33m(\u001b[0m\u001b[1;34m'The input array a must be a cupy.ndarray'\u001b[0m\u001b[1;33m)\u001b[0m\u001b[1;33m\u001b[0m\u001b[1;33m\u001b[0m\u001b[0m\n\u001b[0m\u001b[0;32m    576\u001b[0m     \u001b[1;32mif\u001b[0m \u001b[0mnorm\u001b[0m \u001b[1;32mis\u001b[0m \u001b[1;32mNone\u001b[0m\u001b[1;33m:\u001b[0m  \u001b[1;31m# for backward compatibility\u001b[0m\u001b[1;33m\u001b[0m\u001b[1;33m\u001b[0m\u001b[0m\n\u001b[0;32m    577\u001b[0m         \u001b[0mnorm\u001b[0m \u001b[1;33m=\u001b[0m \u001b[1;34m'backward'\u001b[0m\u001b[1;33m\u001b[0m\u001b[1;33m\u001b[0m\u001b[0m\n",
      "\u001b[1;31mTypeError\u001b[0m: The input array a must be a cupy.ndarray"
     ]
    }
   ],
   "source": [
    "# this will also fail\n",
    "fft_gpu.fftn(array_cpu)"
   ]
  },
  {
   "cell_type": "code",
   "execution_count": 16,
   "metadata": {
    "colab": {
     "base_uri": "https://localhost:8080/"
    },
    "id": "VXhSyxOEE2x8",
    "outputId": "cee5cb49-2aa2-4bea-909b-0eea935c92af"
   },
   "outputs": [
    {
     "data": {
      "text/plain": [
       "array(254, dtype=int32)"
      ]
     },
     "execution_count": 16,
     "metadata": {},
     "output_type": "execute_result"
    }
   ],
   "source": [
    "# some numpy functions may work\n",
    "np.max(array_gpu)"
   ]
  },
  {
   "cell_type": "code",
   "execution_count": 17,
   "metadata": {
    "colab": {
     "base_uri": "https://localhost:8080/"
    },
    "id": "1RmDYlR2EXEp",
    "outputId": "ab60aff7-30a2-47e0-dfc3-6a7548dc2b65"
   },
   "outputs": [
    {
     "name": "stdout",
     "output_type": "stream",
     "text": [
      "Wall time: 2.34 s\n"
     ]
    }
   ],
   "source": [
    "%%time\n",
    "\n",
    "# if at all possible, create arrays directly on the GPU\n",
    "random_gpu_array = cp.random.randint(0, 255, size=(100, 100))"
   ]
  },
  {
   "cell_type": "markdown",
   "metadata": {
    "id": "VffahcQc8Csn"
   },
   "source": [
    "## Custom kernels with numba"
   ]
  },
  {
   "cell_type": "markdown",
   "metadata": {
    "id": "gCIh0QTSGDJ2"
   },
   "source": [
    "### Numba device arrays"
   ]
  },
  {
   "cell_type": "code",
   "execution_count": 18,
   "metadata": {
    "colab": {
     "base_uri": "https://localhost:8080/"
    },
    "id": "uxfakD_p60G0",
    "outputId": "f2bf33b7-a7c9-4e5c-a04f-46d19b29cbaa"
   },
   "outputs": [
    {
     "data": {
      "text/plain": [
       "<numba.cuda.cudadrv.devicearray.DeviceNDArray at 0x2d3705a42e0>"
      ]
     },
     "execution_count": 18,
     "metadata": {},
     "output_type": "execute_result"
    }
   ],
   "source": [
    "# numba has its own API for transfering data\n",
    "d_ary = cuda.to_device(array_cpu)\n",
    "d_ary"
   ]
  },
  {
   "cell_type": "code",
   "execution_count": 19,
   "metadata": {
    "colab": {
     "base_uri": "https://localhost:8080/"
    },
    "id": "t3JPJxX360bD",
    "outputId": "980448e5-d602-4f05-dcba-ca5fbbe4fd10"
   },
   "outputs": [
    {
     "data": {
      "text/plain": [
       "array([[ 91,   2, 189, ...,   5, 145, 127],\n",
       "       [139,  27,  53, ...,  51,  59, 163],\n",
       "       [ 16,  44, 148, ...,  14,  16,  41],\n",
       "       ...,\n",
       "       [205, 110, 110, ..., 200,  52, 131],\n",
       "       [ 86, 246, 159, ..., 178,  78, 143],\n",
       "       [175, 142,  77, ...,  25, 150,  13]])"
      ]
     },
     "execution_count": 19,
     "metadata": {},
     "output_type": "execute_result"
    }
   ],
   "source": [
    "cp.asarray(d_ary)"
   ]
  },
  {
   "cell_type": "code",
   "execution_count": 20,
   "metadata": {
    "colab": {
     "base_uri": "https://localhost:8080/"
    },
    "id": "dJ0sdWXs60s3",
    "outputId": "16f3b82a-1563-436e-a959-7690a4eb4b46"
   },
   "outputs": [
    {
     "data": {
      "text/plain": [
       "array([[ 91,   2, 189, ...,   5, 145, 127],\n",
       "       [139,  27,  53, ...,  51,  59, 163],\n",
       "       [ 16,  44, 148, ...,  14,  16,  41],\n",
       "       ...,\n",
       "       [205, 110, 110, ..., 200,  52, 131],\n",
       "       [ 86, 246, 159, ..., 178,  78, 143],\n",
       "       [175, 142,  77, ...,  25, 150,  13]])"
      ]
     },
     "execution_count": 20,
     "metadata": {},
     "output_type": "execute_result"
    }
   ],
   "source": [
    "d_ary.copy_to_host()"
   ]
  },
  {
   "cell_type": "markdown",
   "metadata": {
    "id": "D-xki0BeGIOY"
   },
   "source": [
    "### Numba kernels"
   ]
  },
  {
   "cell_type": "code",
   "execution_count": 21,
   "metadata": {
    "id": "FBRTfOF5BIAK"
   },
   "outputs": [],
   "source": [
    "from numba import cuda\n",
    "import cupy as cp\n",
    "import numpy as np"
   ]
  },
  {
   "cell_type": "code",
   "execution_count": 22,
   "metadata": {
    "id": "vzoVtm6O61DL"
   },
   "outputs": [],
   "source": [
    "@cuda.jit\n",
    "def matmul(A, B, C):\n",
    "    \"\"\"Perform square matrix multiplication of C = A * B\n",
    "    \"\"\"\n",
    "    i, j = cuda.grid(2)  \n",
    "    if i < C.shape[0] and j < C.shape[1]:   # grid can extend beyond C\n",
    "        tmp = 0.                            \n",
    "        for k in range(A.shape[1]):\n",
    "            tmp += A[i, k] * B[k, j]        # multiply elements in row i of A and column j of B and add to temp\n",
    "        C[i, j] = tmp"
   ]
  },
  {
   "cell_type": "code",
   "execution_count": 23,
   "metadata": {
    "id": "IGEoEUjo683n"
   },
   "outputs": [],
   "source": [
    "cp.random.seed(42)\n",
    "A = cp.random.uniform(1, 10, size=(2000, 2000), dtype=np.float64)  # array 1\n",
    "B = cp.random.uniform(1, 10, size=(2000, 2000), dtype=np.float64)  # array 2\n",
    "C = cp.zeros((2000, 2000), dtype=np.float64)       # array where we store answer "
   ]
  },
  {
   "cell_type": "code",
   "execution_count": 24,
   "metadata": {
    "colab": {
     "base_uri": "https://localhost:8080/"
    },
    "id": "5bpfjqOWGrA5",
    "outputId": "c87f834e-a680-48e5-a044-8ca62913770f"
   },
   "outputs": [
    {
     "data": {
      "text/plain": [
       "array([[0., 0., 0., ..., 0., 0., 0.],\n",
       "       [0., 0., 0., ..., 0., 0., 0.],\n",
       "       [0., 0., 0., ..., 0., 0., 0.],\n",
       "       ...,\n",
       "       [0., 0., 0., ..., 0., 0., 0.],\n",
       "       [0., 0., 0., ..., 0., 0., 0.],\n",
       "       [0., 0., 0., ..., 0., 0., 0.]])"
      ]
     },
     "execution_count": 24,
     "metadata": {},
     "output_type": "execute_result"
    }
   ],
   "source": [
    "C"
   ]
  },
  {
   "cell_type": "code",
   "execution_count": 25,
   "metadata": {
    "colab": {
     "base_uri": "https://localhost:8080/"
    },
    "id": "tlBglj4fGVCT",
    "outputId": "f700c85b-34bf-4ff9-cf7d-08995a28218e"
   },
   "outputs": [
    {
     "name": "stdout",
     "output_type": "stream",
     "text": [
      "(125, 125)\n",
      "The kernel will be executed up to element 2000\n"
     ]
    }
   ],
   "source": [
    "threadsperblock = (16, 16)  # each block will contain 16x16 threads, typically 128 - 512 threads/block\n",
    "blockspergrid_x = int(np.ceil(C.shape[0] / threadsperblock[0]))\n",
    "blockspergrid_y = int(np.ceil(C.shape[1] / threadsperblock[1]))\n",
    "blockspergrid = (blockspergrid_x, blockspergrid_y)  # we calculate the gridsize (number of blocks) from array\n",
    "print(blockspergrid)\n",
    "print(f\"The kernel will be executed up to element {threadsperblock[0]*blockspergrid_x}\")"
   ]
  },
  {
   "cell_type": "code",
   "execution_count": 26,
   "metadata": {
    "id": "ec9uXEHSGiex"
   },
   "outputs": [],
   "source": [
    "# execution of the kernel\n",
    "matmul[blockspergrid, threadsperblock](A, B, C)"
   ]
  },
  {
   "cell_type": "code",
   "execution_count": 27,
   "metadata": {
    "colab": {
     "base_uri": "https://localhost:8080/"
    },
    "id": "lLcKpVgbGuer",
    "outputId": "60e420d1-5df2-47c2-a20c-71ae541ce30f"
   },
   "outputs": [
    {
     "data": {
      "text/plain": [
       "array([[59394.46607842, 58001.66377549, 58910.89964126, ...,\n",
       "        58755.23643036, 59265.65525416, 58447.86197932],\n",
       "       [59656.82462269, 58635.04995946, 59080.54393462, ...,\n",
       "        59327.90030958, 60391.24930458, 59425.35827899],\n",
       "       [62192.77335924, 60700.17680915, 60538.34933653, ...,\n",
       "        61027.03460329, 61711.10155029, 60544.69882075],\n",
       "       ...,\n",
       "       [60649.27416407, 59951.20972379, 60170.2004206 , ...,\n",
       "        60203.88074659, 60934.19598791, 59613.28418599],\n",
       "       [61620.11922557, 61264.33868343, 62076.33462258, ...,\n",
       "        61227.57661876, 62642.97523374, 61841.46799761],\n",
       "       [61535.95697543, 59600.43760873, 59927.620961  , ...,\n",
       "        60738.55627077, 61429.70009593, 59662.34901713]])"
      ]
     },
     "execution_count": 27,
     "metadata": {},
     "output_type": "execute_result"
    }
   ],
   "source": [
    "C"
   ]
  },
  {
   "cell_type": "code",
   "execution_count": 28,
   "metadata": {
    "id": "4UikbP70GwLF"
   },
   "outputs": [],
   "source": [
    "# faster multiplication can be obtained by making use of shared memory between threads in the same block\n",
    "# this requires more thinking about non-obvious implementation!\n",
    "\n",
    "from numba import float32, int32, float64\n",
    "\n",
    "# Controls threads per block and shared memory usage.\n",
    "# The computation will be done on blocks of TPBxTPB elements.\n",
    "TPB = 16\n",
    "\n",
    "@cuda.jit\n",
    "def fast_matmul(A, B, C):\n",
    "    # Define an array in the shared memory\n",
    "    # The size and type of the arrays must be known at compile time\n",
    "    sA = cuda.shared.array(shape=(TPB, TPB), dtype=float32)\n",
    "    sB = cuda.shared.array(shape=(TPB, TPB), dtype=float32)\n",
    "\n",
    "    x, y = cuda.grid(2)\n",
    "\n",
    "    tx = cuda.threadIdx.x\n",
    "    ty = cuda.threadIdx.y\n",
    "    bpg = cuda.gridDim.x    # blocks per grid\n",
    "\n",
    "    if x >= C.shape[0] and y >= C.shape[1]:\n",
    "        # Quit if (x, y) is outside of valid C boundary\n",
    "        return\n",
    "\n",
    "    # Each thread computes one element in the result matrix.\n",
    "    # The dot product is chunked into dot products of TPB-long vectors.\n",
    "    tmp = 0.\n",
    "    for i in range(bpg):\n",
    "        # Preload data into shared memory\n",
    "        sA[tx, ty] = A[x, ty + i * TPB]\n",
    "        sB[tx, ty] = B[tx + i * TPB, y]\n",
    "\n",
    "        # Wait until all threads finish preloading\n",
    "        cuda.syncthreads()\n",
    "\n",
    "        # Computes partial product on the shared memory\n",
    "        for j in range(TPB):\n",
    "            tmp += sA[tx, j] * sB[j, ty]\n",
    "\n",
    "        # Wait until all threads finish computing\n",
    "        cuda.syncthreads()\n",
    "\n",
    "    C[x, y] = tmp"
   ]
  },
  {
   "cell_type": "code",
   "execution_count": 29,
   "metadata": {
    "id": "s7P5ZyObG6_e"
   },
   "outputs": [],
   "source": [
    "# execution of the kernel\n",
    "SIZE = 2000\n",
    "A = cp.random.uniform(1, 10, size=(SIZE, SIZE), dtype=np.float32)\n",
    "B = cp.random.uniform(1, 10, size=(SIZE, SIZE), dtype=np.float32)\n",
    "C_slow = cp.zeros((SIZE, SIZE), dtype=np.float32)      \n",
    "C_fast = cp.zeros((SIZE, SIZE), dtype=np.float32)"
   ]
  },
  {
   "cell_type": "code",
   "execution_count": 30,
   "metadata": {
    "id": "37Kx6dg-sfGZ"
   },
   "outputs": [],
   "source": [
    "threadsperblock = (TPB, TPB)\n",
    "blockspergrid = int(np.ceil(SIZE / threadsperblock[0]))\n",
    "blockspergrid = (blockspergrid, blockspergrid)"
   ]
  },
  {
   "cell_type": "code",
   "execution_count": 31,
   "metadata": {
    "id": "FZhhRiu3uKmV"
   },
   "outputs": [],
   "source": [
    "matmul[blockspergrid, threadsperblock](A, B, C_slow)"
   ]
  },
  {
   "cell_type": "code",
   "execution_count": 32,
   "metadata": {
    "id": "6B51zQXvuHr7"
   },
   "outputs": [],
   "source": [
    "fast_matmul[blockspergrid, threadsperblock](A, B, C_fast)"
   ]
  },
  {
   "cell_type": "code",
   "execution_count": 33,
   "metadata": {
    "colab": {
     "base_uri": "https://localhost:8080/"
    },
    "id": "EAdX-2htuvvN",
    "outputId": "253e09c2-1853-4d4e-fc21-fd32f780e709"
   },
   "outputs": [
    {
     "data": {
      "text/plain": [
       "array(True)"
      ]
     },
     "execution_count": 33,
     "metadata": {},
     "output_type": "execute_result"
    }
   ],
   "source": [
    "cp.allclose(C_slow, C_fast)"
   ]
  },
  {
   "cell_type": "code",
   "execution_count": 34,
   "metadata": {
    "colab": {
     "base_uri": "https://localhost:8080/"
    },
    "id": "jHEO7EYcUqVE",
    "outputId": "2aee8722-010a-4ba8-f55f-0e74888fff71"
   },
   "outputs": [
    {
     "name": "stdout",
     "output_type": "stream",
     "text": [
      "Wall time: 2.45 s\n"
     ]
    }
   ],
   "source": [
    "%%time\n",
    "\n",
    "for i in range(10):\n",
    "  matmul[blockspergrid, threadsperblock](A, B, C_slow)"
   ]
  },
  {
   "cell_type": "code",
   "execution_count": 35,
   "metadata": {
    "colab": {
     "base_uri": "https://localhost:8080/"
    },
    "id": "aurP1QLoG-MH",
    "outputId": "d4623c1b-009d-4e97-f55a-3f081b51ad16"
   },
   "outputs": [
    {
     "name": "stdout",
     "output_type": "stream",
     "text": [
      "Wall time: 3.74 s\n"
     ]
    }
   ],
   "source": [
    "%%time\n",
    "\n",
    "for i in range(10):\n",
    "  fast_matmul[blockspergrid, threadsperblock](A, B, C_fast)"
   ]
  },
  {
   "cell_type": "code",
   "execution_count": 36,
   "metadata": {
    "id": "4IvNo1MovZTx"
   },
   "outputs": [],
   "source": [
    "C_c = cp.dot(A, B)"
   ]
  },
  {
   "cell_type": "code",
   "execution_count": 37,
   "metadata": {
    "colab": {
     "base_uri": "https://localhost:8080/"
    },
    "id": "lJ2eQi8fJjPJ",
    "outputId": "8edfdade-0a0f-4aff-9d12-31e0521cda05"
   },
   "outputs": [
    {
     "data": {
      "text/plain": [
       "array(True)"
      ]
     },
     "execution_count": 37,
     "metadata": {},
     "output_type": "execute_result"
    }
   ],
   "source": [
    "np.allclose(C_c, C_fast)"
   ]
  },
  {
   "cell_type": "code",
   "execution_count": 38,
   "metadata": {
    "colab": {
     "base_uri": "https://localhost:8080/"
    },
    "id": "ip0P_7VJJpTx",
    "outputId": "81423c10-f7cc-4264-f17c-ab9d7a35c13b"
   },
   "outputs": [
    {
     "name": "stdout",
     "output_type": "stream",
     "text": [
      "Wall time: 0 ns\n"
     ]
    }
   ],
   "source": [
    "%time\n",
    "\n",
    "for i in range(10):\n",
    "  cp.dot(A, B)"
   ]
  },
  {
   "cell_type": "code",
   "execution_count": 39,
   "metadata": {
    "id": "-FkTb3g2J3Sf"
   },
   "outputs": [
    {
     "ename": "SyntaxError",
     "evalue": "invalid syntax (<ipython-input-39-d8959d277f58>, line 1)",
     "output_type": "error",
     "traceback": [
      "\u001b[1;36m  File \u001b[1;32m\"<ipython-input-39-d8959d277f58>\"\u001b[1;36m, line \u001b[1;32m1\u001b[0m\n\u001b[1;33m    del\u001b[0m\n\u001b[1;37m        ^\u001b[0m\n\u001b[1;31mSyntaxError\u001b[0m\u001b[1;31m:\u001b[0m invalid syntax\n"
     ]
    }
   ],
   "source": [
    "del "
   ]
  },
  {
   "cell_type": "code",
   "execution_count": null,
   "metadata": {},
   "outputs": [],
   "source": []
  }
 ],
 "metadata": {
  "accelerator": "GPU",
  "colab": {
   "collapsed_sections": [],
   "name": "GPU calculation in python with Cupy and Numba",
   "provenance": []
  },
  "kernelspec": {
   "display_name": "Python 3",
   "language": "python",
   "name": "python3"
  },
  "language_info": {
   "codemirror_mode": {
    "name": "ipython",
    "version": 3
   },
   "file_extension": ".py",
   "mimetype": "text/x-python",
   "name": "python",
   "nbconvert_exporter": "python",
   "pygments_lexer": "ipython3",
   "version": "3.8.8"
  }
 },
 "nbformat": 4,
 "nbformat_minor": 4
}
