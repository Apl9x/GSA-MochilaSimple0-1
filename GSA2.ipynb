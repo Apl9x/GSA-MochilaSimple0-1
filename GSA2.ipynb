{
 "cells": [
  {
   "cell_type": "markdown",
   "id": "bafeb49b-ea7f-40d2-8659-81d2cda34bad",
   "metadata": {},
   "source": [
    "# Gravitational Search Algorithm para Problema de la Mochila Paralelizado"
   ]
  },
  {
   "cell_type": "markdown",
   "id": "90291001-0edc-4eee-8e7d-e7d0c0204a11",
   "metadata": {},
   "source": [
    "## Importamos las librerías necesarias"
   ]
  },
  {
   "cell_type": "code",
   "execution_count": 17,
   "id": "31b6db60-c1e9-4c0d-b1a3-ea451aa87478",
   "metadata": {},
   "outputs": [],
   "source": [
    "import math\n",
    "import numpy as np\n",
    "import pandas as pd\n",
    "from time import time\n",
    "from numba import cuda\n",
    "import cupy as cp\n",
    "import random"
   ]
  },
  {
   "cell_type": "markdown",
   "id": "6f6080d7-bbf5-44f6-ae56-e37c779ff419",
   "metadata": {},
   "source": [
    "## Definimos las funciones a utilizar"
   ]
  },
  {
   "cell_type": "code",
   "execution_count": 18,
   "id": "2230e497-8b9f-45b9-88f5-3dc4cad05f9d",
   "metadata": {},
   "outputs": [],
   "source": [
    "#Función para calcular el peso de una solucion\n",
    "def calcularPeso(sol,values):\n",
    "    peso = 0\n",
    "    for i in range(N):\n",
    "        peso = peso + sol[i]*(values[i][0])\n",
    "    return peso"
   ]
  },
  {
   "cell_type": "code",
   "execution_count": 19,
   "id": "c8388f2f-c289-4347-956b-d0c011b8c0be",
   "metadata": {},
   "outputs": [],
   "source": [
    "#Funcion para calcular el fitness de la poblacion\n",
    "@cuda.jit\n",
    "def calcularFitness(population,values,fitness):\n",
    "    i,j= cuda.grid(2)  \n",
    "    if i < population.shape[0] and j < 1:\n",
    "        valor = 0\n",
    "        for k in range(population.shape[1]):\n",
    "            valor = valor + population[i,k]*(values[k,1])\n",
    "        fitness[i]=valor"
   ]
  },
  {
   "cell_type": "code",
   "execution_count": 20,
   "id": "53bfe229-348d-4e06-97a4-ed81637da57d",
   "metadata": {},
   "outputs": [],
   "source": [
    "#Funcion para generar de forma aleatoria los agentes iniciales\n",
    "def initialPopulation(values,N,P,W):\n",
    "    population = []\n",
    "    iteraciones = N\n",
    "    for i in range(P):\n",
    "        sol = [0]*N\n",
    "        peso = 0  \n",
    "        j = 0\n",
    "        while peso <= W and j < iteraciones:\n",
    "            pos = random.randrange(0,N,1)\n",
    "            sol[pos] = 1\n",
    "            pesoAnt = peso\n",
    "            peso = calcularPeso(sol,values)\n",
    "            if peso > W:\n",
    "                sol[pos] = 0\n",
    "                peso = pesoAnt\n",
    "            j=j+1\n",
    "        population.append(sol)\n",
    "    return population\n"
   ]
  },
  {
   "cell_type": "code",
   "execution_count": 21,
   "id": "86522931-3db9-419e-9def-ed0191e25e3b",
   "metadata": {},
   "outputs": [],
   "source": [
    "#Funcion de actualizacion de la constante de gravedad\n",
    "def actualizarG(t,G0,alpha,maxIter):\n",
    "    G = (-alpha * t)/maxIter\n",
    "    G = math.exp(G)\n",
    "    G = G * G0\n",
    "    return G"
   ]
  },
  {
   "cell_type": "code",
   "execution_count": 22,
   "id": "ce2f776a-223b-4da4-b2e6-5dc41380d333",
   "metadata": {},
   "outputs": [],
   "source": [
    "#Funcion de calculo de las masas de cada agente\n",
    "def calcularMasas(fit,best,worst,P):\n",
    "    m=[]\n",
    "    M=[]\n",
    "    for i in range(P):\n",
    "        m.append((fitness[i]-worst)/(best-worst))\n",
    "    for i in range(P):\n",
    "        suma = 0\n",
    "        for j in m:\n",
    "            suma = suma + j   \n",
    "        M.append(m[i]/suma)\n",
    "    return M"
   ]
  },
  {
   "cell_type": "code",
   "execution_count": 23,
   "id": "c4df9106-1e42-42c0-b735-43c41d6f4047",
   "metadata": {},
   "outputs": [],
   "source": [
    "#Funcion de resta de posicion especifica\n",
    "def restPos(xi,xj,d):\n",
    "    return xj[d] - xi[d]"
   ]
  },
  {
   "cell_type": "code",
   "execution_count": 24,
   "id": "c14e09cf-d409-4d7e-af3a-0f9068d55f04",
   "metadata": {},
   "outputs": [],
   "source": [
    "#Funcion de calculo de la distancia euclidiana\n",
    "def calcularR(x1,x2,N):\n",
    "    suma=0\n",
    "    for i in range(N):\n",
    "        suma = suma + (x2[i]-x1[i])**2\n",
    "    R=math.sqrt(suma)\n",
    "    return R"
   ]
  },
  {
   "cell_type": "code",
   "execution_count": 25,
   "id": "38780c6e-c722-467f-bc6b-30a8b66f7114",
   "metadata": {},
   "outputs": [],
   "source": [
    "#Funcion de calculo de las fuerzas en todas las direcciones Fijd y la fuerza total aplicada en cada agente en cada direccion Fid\n",
    "def calcularFuerzas(P,N,G,M,population,e):\n",
    "    FT=[]\n",
    "    Ft=[]\n",
    "    f=[]\n",
    "    \n",
    "    for i in range(P):\n",
    "        Ft=[]\n",
    "        for j in range(P):\n",
    "            f=[]\n",
    "            for d in range(N):\n",
    "                value=0\n",
    "                value = value+M[i]*M[j]\n",
    "                value = value/(calcularR(population[i],population[j],N)+e)\n",
    "                value = value*G*restPos(population[i],population[j],d)\n",
    "                f.append(value)\n",
    "            Ft.append(f)\n",
    "        FT.append(Ft)\n",
    "    F=[]\n",
    "    f=[]\n",
    "    for i in range(P):\n",
    "        f=[]\n",
    "        for d in range(N): \n",
    "            value=0\n",
    "            for j in range(P):\n",
    "                if j != i :\n",
    "                    r = random.random()\n",
    "                    value = value +(r*np.array(FT)[i,j,d])\n",
    "            f.append(value)\n",
    "        F.append(f)\n",
    "    return(F)"
   ]
  },
  {
   "cell_type": "code",
   "execution_count": 26,
   "id": "0b8dd5cd-af3c-42da-83b8-0952b58c79f7",
   "metadata": {},
   "outputs": [],
   "source": [
    "#Funcion de actualizacion de aceleraciones\n",
    "@cuda.jit\n",
    "def calcularAceleracion(M,F,a):\n",
    "    i,j= cuda.grid(2)\n",
    "    if i < M.shape[0] and j < F.shape[1]:\n",
    "        if F[i,j] > 0 and M[i] > 0:\n",
    "            a[i,j] = F[i,j]/M[i]\n",
    "        else:\n",
    "            a[i,j] = 0"
   ]
  },
  {
   "cell_type": "code",
   "execution_count": null,
   "id": "16a25072-196d-4716-ae7f-29c0f1638ea0",
   "metadata": {},
   "outputs": [],
   "source": []
  },
  {
   "cell_type": "code",
   "execution_count": 27,
   "id": "fec1973d-6a75-4ef4-bf17-935860f321cc",
   "metadata": {},
   "outputs": [],
   "source": [
    "#Funcion de actualizacion de velocidades\n",
    "@cuda.jit\n",
    "def calcularVelocidad(v,a):\n",
    "    i,j= cuda.grid(2)\n",
    "    if i<a.shape[0] and j<a.shape[1]:\n",
    "        value = (v[i,j]+a[i,j])\n",
    "        v[i,j] = value\n",
    "            "
   ]
  },
  {
   "cell_type": "code",
   "execution_count": 28,
   "id": "5368cef6-829d-4a53-be63-0c890d19cc76",
   "metadata": {},
   "outputs": [],
   "source": [
    "#Funcion de actualizacion de posiciones\n",
    "def calcularPosiciones(P,N,population,v,values,W):\n",
    "    for i in range(P):\n",
    "        for j in range(N):\n",
    "            if v[i][j] > 0 and population[i][j]==0:\n",
    "                population[i][j]= 1\n",
    "                if calcularPeso(population[i],values) > W:\n",
    "                    population[i][j]= 0\n",
    "            if v[i][j] < 0 and population[i][j]==1:\n",
    "                population[i][j]= 0\n",
    "    return population"
   ]
  },
  {
   "cell_type": "code",
   "execution_count": 29,
   "id": "8f57d60d-1627-4d9e-b818-2c6b190b4869",
   "metadata": {},
   "outputs": [],
   "source": [
    "#Funcion de lectura del problema en los csv\n",
    "def leerCSV():\n",
    "    problema2 = pd.read_csv('p.csv')\n",
    "    param = pd.read_csv('s.csv')\n",
    "    lista = []\n",
    "    for i in range(problema2['Peso'].size):\n",
    "        item = [problema2['Peso'][i],problema2['Valor'][i]]\n",
    "        lista.append(item)\n",
    "    N = param['Parametros'][0]\n",
    "    P = param['Parametros'][1]\n",
    "    W = param['Parametros'][2]\n",
    "    return N,P,W,lista"
   ]
  },
  {
   "cell_type": "markdown",
   "id": "c3ab6311-d658-42de-8910-5b196a78c20f",
   "metadata": {},
   "source": [
    "## Inicializamos Variables"
   ]
  },
  {
   "cell_type": "code",
   "execution_count": 30,
   "id": "2197164a-d017-4572-9d15-b844414f9231",
   "metadata": {},
   "outputs": [
    {
     "name": "stdout",
     "output_type": "stream",
     "text": [
      "N:  16\n",
      "P:  30\n",
      "W:  31\n",
      "Poblacion:  [[0, 1, 0, 1, 0, 1, 0, 1, 0, 0, 1, 0, 0, 0, 0, 0], [0, 0, 0, 0, 1, 1, 0, 1, 0, 0, 0, 1, 1, 1, 1, 1], [1, 1, 0, 1, 0, 1, 1, 0, 0, 0, 0, 1, 0, 1, 0, 1], [0, 0, 1, 0, 1, 0, 0, 1, 0, 0, 1, 1, 0, 0, 1, 1], [1, 0, 0, 1, 0, 0, 1, 1, 0, 0, 1, 0, 1, 1, 1, 1], [1, 0, 0, 0, 1, 1, 1, 0, 0, 1, 1, 1, 1, 0, 1, 1], [0, 0, 1, 1, 0, 0, 0, 1, 0, 1, 0, 1, 1, 1, 0, 1], [0, 1, 0, 1, 1, 0, 0, 0, 1, 0, 0, 1, 0, 1, 0, 1], [1, 0, 1, 0, 1, 0, 1, 1, 1, 1, 0, 0, 0, 0, 0, 1], [0, 0, 1, 0, 1, 1, 0, 0, 0, 1, 1, 1, 1, 1, 0, 1], [0, 0, 1, 0, 0, 0, 1, 0, 1, 1, 0, 1, 0, 0, 1, 0], [0, 1, 1, 0, 1, 0, 1, 1, 0, 0, 0, 0, 1, 0, 0, 0], [1, 1, 0, 0, 1, 0, 1, 0, 0, 0, 1, 0, 0, 1, 1, 1], [0, 0, 1, 1, 1, 0, 1, 0, 1, 0, 0, 0, 1, 1, 0, 0], [0, 1, 1, 0, 1, 0, 1, 1, 0, 1, 0, 1, 0, 0, 0, 1], [0, 0, 1, 0, 1, 1, 1, 0, 0, 0, 0, 1, 1, 0, 1, 0], [0, 1, 0, 0, 0, 1, 0, 0, 0, 1, 1, 1, 0, 0, 1, 0], [1, 0, 0, 0, 1, 1, 0, 0, 1, 1, 0, 1, 0, 0, 1, 0], [1, 1, 0, 0, 1, 1, 0, 0, 0, 1, 1, 1, 1, 1, 0, 1], [1, 0, 0, 0, 0, 1, 0, 1, 1, 0, 1, 1, 1, 0, 0, 1], [1, 0, 1, 0, 1, 0, 1, 0, 1, 1, 1, 1, 0, 1, 0, 0], [1, 1, 0, 0, 1, 0, 1, 1, 0, 1, 0, 0, 1, 0, 1, 0], [0, 1, 0, 0, 1, 1, 0, 0, 1, 1, 0, 1, 0, 0, 0, 0], [1, 1, 0, 1, 0, 0, 0, 0, 0, 0, 1, 0, 1, 1, 1, 0], [0, 1, 0, 1, 1, 0, 0, 0, 0, 1, 0, 1, 0, 1, 1, 1], [1, 0, 0, 0, 1, 1, 0, 0, 1, 1, 1, 0, 1, 1, 0, 0], [1, 0, 0, 1, 1, 1, 0, 0, 1, 0, 0, 1, 1, 0, 0, 1], [1, 0, 0, 0, 1, 0, 1, 1, 1, 1, 0, 1, 0, 1, 1, 0], [0, 1, 0, 0, 0, 0, 1, 1, 0, 0, 1, 1, 0, 0, 1, 1], [1, 0, 0, 0, 0, 1, 0, 0, 1, 1, 0, 1, 0, 0, 1, 1]]\n"
     ]
    }
   ],
   "source": [
    "#Leemos el problema\n",
    "[N,P,W,values] = leerCSV()\n",
    "#Inicializamos poblacion\n",
    "population = initialPopulation(values,N,P,W)\n",
    "#Inicializamos parametros\n",
    "G0 = 100.0\n",
    "v=list(np.zeros((P, N)))\n",
    "best = []\n",
    "worst = []\n",
    "M=[]\n",
    "F = []\n",
    "a=[]\n",
    "e=0.5\n",
    "maxIter = (N//2)+ P\n",
    "alpha = maxIter*0.2\n",
    "print('N: ',N)\n",
    "print('P: ',P)\n",
    "print('W: ',W)\n",
    "print(\"Poblacion: \",population)\n",
    "\n",
    "\n"
   ]
  },
  {
   "cell_type": "markdown",
   "id": "b7ffce3c-2546-45ec-a17b-dde94227642a",
   "metadata": {},
   "source": [
    "## Ciclo del algoritmo GSA"
   ]
  },
  {
   "cell_type": "code",
   "execution_count": 31,
   "id": "a70ab5af-65f5-4830-8696-fcc7ea6cc16a",
   "metadata": {},
   "outputs": [
    {
     "name": "stdout",
     "output_type": "stream",
     "text": [
      "Wall time: 10min 17s\n"
     ]
    }
   ],
   "source": [
    "%%time\n",
    "#INICIO\n",
    "#Calculamos fitness\n",
    "gpu_Population = cp.asarray(population)\n",
    "gpu_Values = cp.asarray(values)\n",
    "threadsperblock = (20, 20)  # each block will contain 16x16 threads, typically 128 - 512 threads/block\n",
    "blockspergrid_x = int(np.ceil(gpu_Population.shape[0] / threadsperblock[0]))\n",
    "blockspergrid_y = int(np.ceil(gpu_Population.shape[1] / threadsperblock[1]))\n",
    "blockspergrid = (blockspergrid_x, blockspergrid_y)  # we calculate the gridsize (number of blocks) from array\n",
    "for i in range(maxIter):\n",
    "    #Calculamos fitness\n",
    "    gpu_Population = cp.asarray(population)\n",
    "    gpu_Values = cp.asarray(values)\n",
    "    # execution of the kernel\n",
    "    fit = cp.zeros((len(population)), dtype=np.int32) \n",
    "    calcularFitness[blockspergrid, threadsperblock](gpu_Population,gpu_Values,fit)\n",
    "    fitness= fit.tolist()\n",
    "    # print(\"fitness: \",fitness)\n",
    "    #Actualizamos G,best y worst\n",
    "    G = actualizarG(i,G0,alpha,maxIter)\n",
    "    # print(\"G: \",G)\n",
    "    b = max(fitness)\n",
    "    best = fitness.index(b)\n",
    "    w = min(fitness)\n",
    "    worst = fitness.index(w)\n",
    "    # print('Best: ' + str(population[best]) + str(fitness[best]))\n",
    "    # print('Worst: '+ str(population[worst]) + str(fitness[worst]))\n",
    "    #Imprimimos la media y la desviacion estandar de los fitness\n",
    "    # print('Media de Fitness: ',np.mean(fitness))\n",
    "    # print('Desviacion estandar: ',np.std(fitness))\n",
    "    #Actualizamos Masas(M), Fuerzas(Fid), aceleraciones(aid) y velocidades(vid)\n",
    "    M = calcularMasas(fitness,b,w,P)\n",
    "    # print(\"Masas: \",M)\n",
    "    F = calcularFuerzas(P,N,G,M,population,e)\n",
    "    # print(\"Fuerzas sobre cada agente: \")\n",
    "    # print(np.array(F))\n",
    "    \n",
    "    gpu_a = cp.zeros((P, N), dtype=np.float32)\n",
    "    gpu_M = cp.asarray(M)\n",
    "    gpu_F = cp.asarray(F)\n",
    "    \n",
    "   \n",
    "    # execution of the kernel\n",
    "    calcularAceleracion[blockspergrid, threadsperblock](gpu_M,gpu_F,gpu_a)\n",
    "    a= gpu_a.tolist()\n",
    "    #print(\"Aceleracion: \",a)\n",
    "    \n",
    "    gpu_v = cp.zeros((P, N), dtype=np.float32)\n",
    "    \n",
    "    calcularVelocidad[blockspergrid, threadsperblock](gpu_v,gpu_a)\n",
    "    v = gpu_v.tolist()\n",
    "    #print(\"Velocidad: \",v)\n",
    "    #Actualizamos posiciones (xid)\n",
    "    population = calcularPosiciones(P,N,population,v,values,W)\n",
    "    #Mostramos Nueva Poblacion\n",
    "    # print(\"-------------------------------------------------------------------\")\n",
    "    # print(\"Nueva Poblacion: \",population)\n",
    "\n",
    "#FIN"
   ]
  },
  {
   "cell_type": "markdown",
   "id": "0ee298db-ebea-4cb2-9a89-0630ce2d8fcd",
   "metadata": {},
   "source": [
    "## Imprimimos resultados"
   ]
  },
  {
   "cell_type": "code",
   "execution_count": 32,
   "id": "dc218f10-15f7-42da-ba8c-5c357f66872b",
   "metadata": {
    "tags": []
   },
   "outputs": [
    {
     "name": "stdout",
     "output_type": "stream",
     "text": [
      "Best: [1, 0, 0, 0, 1, 1, 1, 0, 0, 1, 1, 1, 1, 1, 1, 1]78\n",
      "Worst: [0, 1, 0, 1, 0, 1, 0, 1, 0, 0, 1, 0, 0, 0, 0, 0]26\n"
     ]
    }
   ],
   "source": [
    "print('Best: ' + str(population[best]) + str(fitness[best]))\n",
    "print('Worst: '+ str(population[worst]) + str(fitness[worst]))"
   ]
  },
  {
   "cell_type": "code",
   "execution_count": null,
   "id": "6aab4e06-4d00-4bee-89a5-9a5414a2fc37",
   "metadata": {},
   "outputs": [],
   "source": []
  },
  {
   "cell_type": "code",
   "execution_count": null,
   "id": "f53086bb-ce34-44ed-ae54-169f752f3a1c",
   "metadata": {},
   "outputs": [],
   "source": []
  },
  {
   "cell_type": "code",
   "execution_count": null,
   "id": "da2f6aa1-9c75-4b94-8114-d06471a6947d",
   "metadata": {},
   "outputs": [],
   "source": []
  }
 ],
 "metadata": {
  "kernelspec": {
   "display_name": "Python 3",
   "language": "python",
   "name": "python3"
  },
  "language_info": {
   "codemirror_mode": {
    "name": "ipython",
    "version": 3
   },
   "file_extension": ".py",
   "mimetype": "text/x-python",
   "name": "python",
   "nbconvert_exporter": "python",
   "pygments_lexer": "ipython3",
   "version": "3.8.8"
  }
 },
 "nbformat": 4,
 "nbformat_minor": 5
}
