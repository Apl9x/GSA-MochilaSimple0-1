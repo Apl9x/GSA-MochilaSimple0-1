{
 "cells": [
  {
   "cell_type": "markdown",
   "id": "bafeb49b-ea7f-40d2-8659-81d2cda34bad",
   "metadata": {},
   "source": [
    "# Gravitational Search Algorithm para Problema de la Mochila Secuencial"
   ]
  },
  {
   "cell_type": "markdown",
   "id": "90291001-0edc-4eee-8e7d-e7d0c0204a11",
   "metadata": {},
   "source": [
    "## Importamos las librerías necesarias"
   ]
  },
  {
   "cell_type": "code",
   "execution_count": 17,
   "id": "31b6db60-c1e9-4c0d-b1a3-ea451aa87478",
   "metadata": {},
   "outputs": [],
   "source": [
    "import math\n",
    "import random\n",
    "import numpy as np\n",
    "import pandas as pd\n",
    "from time import time"
   ]
  },
  {
   "cell_type": "markdown",
   "id": "6f6080d7-bbf5-44f6-ae56-e37c779ff419",
   "metadata": {},
   "source": [
    "## Definimos las funciones a utilizar"
   ]
  },
  {
   "cell_type": "code",
   "execution_count": 18,
   "id": "2230e497-8b9f-45b9-88f5-3dc4cad05f9d",
   "metadata": {},
   "outputs": [],
   "source": [
    "#Función para calcular el peso de una solucion\n",
    "def calcularPeso(sol,values):\n",
    "    peso = 0\n",
    "    for i in range(N):\n",
    "        peso = peso + sol[i]*(values[i][0])\n",
    "    return peso"
   ]
  },
  {
   "cell_type": "code",
   "execution_count": 19,
   "id": "c8388f2f-c289-4347-956b-d0c011b8c0be",
   "metadata": {},
   "outputs": [],
   "source": [
    "#Funcion para calcular el fitness de la poblacion\n",
    "def calcularFitness(population,values,N,P):\n",
    "    fitness=[]\n",
    "    for i in range(P):\n",
    "        valor = 0\n",
    "        for j in range(N):\n",
    "            valor = valor + population[i][j]*(values[j][1])\n",
    "        fitness.append(valor)\n",
    "    return fitness\n"
   ]
  },
  {
   "cell_type": "code",
   "execution_count": 20,
   "id": "53bfe229-348d-4e06-97a4-ed81637da57d",
   "metadata": {},
   "outputs": [],
   "source": [
    "#Funcion para generar de forma aleatoria los agentes iniciales\n",
    "def initialPopulation(values,N,P,W):\n",
    "    population = []\n",
    "    iteraciones = N\n",
    "    for i in range(P):\n",
    "        sol = [0]*N\n",
    "        peso = 0  \n",
    "        j = 0\n",
    "        while peso <= W and j < iteraciones:\n",
    "            pos = random.randrange(0,N,1)\n",
    "            sol[pos] = 1\n",
    "            pesoAnt = peso\n",
    "            peso = calcularPeso(sol,values)\n",
    "            if peso > W:\n",
    "                sol[pos] = 0\n",
    "                peso = pesoAnt\n",
    "            j=j+1\n",
    "        population.append(sol)\n",
    "    return population\n"
   ]
  },
  {
   "cell_type": "code",
   "execution_count": 21,
   "id": "86522931-3db9-419e-9def-ed0191e25e3b",
   "metadata": {},
   "outputs": [],
   "source": [
    "#Funcion de actualizacion de la constante de gravedad\n",
    "def actualizarG(t,G0,alpha,maxIter):\n",
    "    G = (-alpha * t)/maxIter\n",
    "    G = math.exp(G)\n",
    "    G = G * G0\n",
    "    return G"
   ]
  },
  {
   "cell_type": "code",
   "execution_count": 22,
   "id": "ce2f776a-223b-4da4-b2e6-5dc41380d333",
   "metadata": {},
   "outputs": [],
   "source": [
    "#Funcion de calculo de las masas de cada agente\n",
    "def calcularMasas(fit,best,worst,P):\n",
    "    m=[]\n",
    "    M=[]\n",
    "    for i in range(P):\n",
    "        m.append((fitness[i]-worst)/(best-worst))\n",
    "    for i in range(P):\n",
    "        suma = 0\n",
    "        for j in m:\n",
    "            suma = suma + j   \n",
    "        M.append(m[i]/suma)\n",
    "    return M"
   ]
  },
  {
   "cell_type": "code",
   "execution_count": 23,
   "id": "c4df9106-1e42-42c0-b735-43c41d6f4047",
   "metadata": {},
   "outputs": [],
   "source": [
    "#Funcion de resta de posicion especifica\n",
    "def restPos(xi,xj,d):\n",
    "    return xj[d] - xi[d]"
   ]
  },
  {
   "cell_type": "code",
   "execution_count": 24,
   "id": "c14e09cf-d409-4d7e-af3a-0f9068d55f04",
   "metadata": {},
   "outputs": [],
   "source": [
    "#Funcion de calculo de la distancia euclidiana\n",
    "def calcularR(x1,x2,N):\n",
    "    suma=0\n",
    "    for i in range(N):\n",
    "        suma = suma + (x2[i]-x1[i])**2\n",
    "    R=math.sqrt(suma)\n",
    "    return R"
   ]
  },
  {
   "cell_type": "code",
   "execution_count": 25,
   "id": "38780c6e-c722-467f-bc6b-30a8b66f7114",
   "metadata": {},
   "outputs": [],
   "source": [
    "#Funcion de calculo de las fuerzas en todas las direcciones Fijd y la fuerza total aplicada en cada agente en cada direccion Fid\n",
    "def calcularFuerzas(P,N,G,M,population,e):\n",
    "    FT=[]\n",
    "    Ft=[]\n",
    "    f=[]\n",
    "    \n",
    "    for i in range(P):\n",
    "        Ft=[]\n",
    "        for j in range(P):\n",
    "            f=[]\n",
    "            for d in range(N):\n",
    "                value=0\n",
    "                value = value+M[i]*M[j]\n",
    "                value = value/(calcularR(population[i],population[j],N)+e)\n",
    "                value = value*G*restPos(population[i],population[j],d)\n",
    "                f.append(value)\n",
    "            Ft.append(f)\n",
    "        FT.append(Ft)\n",
    "    F=[]\n",
    "    f=[]\n",
    "    for i in range(P):\n",
    "        f=[]\n",
    "        for d in range(N): \n",
    "            value=0\n",
    "            for j in range(P):\n",
    "                if j != i :\n",
    "                    r = random.random()\n",
    "                    value = value +(r*np.array(FT)[i,j,d])\n",
    "            f.append(value)\n",
    "        F.append(f)\n",
    "    return(F)"
   ]
  },
  {
   "cell_type": "code",
   "execution_count": 26,
   "id": "56644ad7-f7ca-4512-9a5c-5ca67605ed79",
   "metadata": {},
   "outputs": [],
   "source": [
    "#Funcion de actualizacion de aceleraciones\n",
    "def calcularAceleracion(P,N,M,F):\n",
    "    a=[]\n",
    "    for i in range(P):\n",
    "        vec=[]\n",
    "        for j in range(N):\n",
    "            if F[i][j] > 0 and M[i] > 0:\n",
    "                v = F[i][j]/M[i]\n",
    "                vec.append(v)\n",
    "            else:\n",
    "                vec.append(0)\n",
    "        a.append(vec)\n",
    "    return a"
   ]
  },
  {
   "cell_type": "code",
   "execution_count": 27,
   "id": "fec1973d-6a75-4ef4-bf17-935860f321cc",
   "metadata": {},
   "outputs": [],
   "source": [
    "#Funcion de actualizacion de velocidades\n",
    "def calcularVelocidad(P,N,v,a):\n",
    "    _v = []\n",
    "    for i in range(P):\n",
    "        vec=[]\n",
    "        for j in range(N):\n",
    "            value = random.random()\n",
    "            value = value  * (v[i][j]+a[i][j])\n",
    "            vec.append(value)\n",
    "        _v.append(vec)\n",
    "    return _v"
   ]
  },
  {
   "cell_type": "code",
   "execution_count": 28,
   "id": "5368cef6-829d-4a53-be63-0c890d19cc76",
   "metadata": {},
   "outputs": [],
   "source": [
    "#Funcion de actualizacion de posiciones\n",
    "def calcularPosiciones(P,N,population,v,values,W):\n",
    "    for i in range(P):\n",
    "        for j in range(N):\n",
    "            if v[i][j] > 0 and population[i][j]==0:\n",
    "                population[i][j]= 1\n",
    "                if calcularPeso(population[i],values) > W:\n",
    "                    population[i][j]= 0\n",
    "            if v[i][j] < 0 and population[i][j]==1:\n",
    "                population[i][j]= 0\n",
    "    return population"
   ]
  },
  {
   "cell_type": "code",
   "execution_count": 29,
   "id": "8f57d60d-1627-4d9e-b818-2c6b190b4869",
   "metadata": {},
   "outputs": [],
   "source": [
    "#Funcion de lectura del problema en los csv\n",
    "def leerCSV():\n",
    "    problema2 = pd.read_csv('p.csv')\n",
    "    param = pd.read_csv('s.csv')\n",
    "    lista = []\n",
    "    for i in range(problema2['Peso'].size):\n",
    "        item = [problema2['Peso'][i],problema2['Valor'][i]]\n",
    "        lista.append(item)\n",
    "    N = param['Parametros'][0]\n",
    "    P = param['Parametros'][1]\n",
    "    W = param['Parametros'][2]\n",
    "    return N,P,W,lista"
   ]
  },
  {
   "cell_type": "markdown",
   "id": "c3ab6311-d658-42de-8910-5b196a78c20f",
   "metadata": {},
   "source": [
    "## Inicializamos Variables"
   ]
  },
  {
   "cell_type": "code",
   "execution_count": 30,
   "id": "2197164a-d017-4572-9d15-b844414f9231",
   "metadata": {},
   "outputs": [
    {
     "name": "stdout",
     "output_type": "stream",
     "text": [
      "N:  16\n",
      "P:  30\n",
      "W:  31\n",
      "Poblacion:  [[0, 1, 0, 0, 0, 1, 0, 0, 1, 0, 1, 0, 0, 0, 0, 0], [1, 0, 0, 1, 0, 1, 1, 0, 0, 1, 0, 0, 0, 1, 1, 1], [1, 0, 0, 1, 0, 0, 0, 0, 1, 1, 0, 1, 0, 1, 1, 1], [1, 0, 1, 0, 1, 0, 0, 1, 1, 1, 0, 1, 0, 0, 0, 0], [0, 0, 1, 1, 1, 0, 1, 1, 0, 1, 0, 1, 1, 1, 0, 1], [1, 1, 0, 0, 0, 1, 0, 1, 0, 0, 0, 1, 1, 1, 0, 1], [1, 0, 0, 0, 1, 0, 1, 1, 1, 1, 0, 0, 1, 1, 1, 0], [0, 0, 0, 1, 1, 1, 1, 0, 1, 1, 0, 0, 1, 1, 0, 0], [1, 0, 0, 0, 1, 0, 1, 1, 1, 0, 1, 1, 1, 0, 0, 1], [1, 1, 1, 1, 1, 0, 0, 0, 0, 0, 0, 1, 0, 1, 0, 1], [0, 1, 0, 1, 0, 0, 0, 0, 1, 1, 0, 1, 1, 1, 0, 1], [1, 0, 0, 1, 0, 0, 1, 1, 1, 0, 1, 1, 1, 0, 0, 1], [1, 0, 0, 1, 0, 0, 1, 1, 1, 1, 1, 1, 0, 1, 0, 0], [0, 1, 0, 0, 0, 1, 0, 0, 0, 0, 1, 1, 0, 1, 1, 0], [0, 0, 1, 1, 0, 1, 0, 0, 0, 1, 1, 0, 1, 1, 0, 0], [1, 1, 1, 1, 1, 0, 1, 0, 0, 1, 0, 0, 0, 1, 0, 0], [1, 1, 1, 1, 1, 0, 0, 0, 0, 1, 0, 0, 1, 0, 0, 1], [1, 0, 0, 0, 1, 1, 0, 1, 1, 0, 0, 0, 1, 1, 0, 1], [1, 0, 0, 1, 0, 1, 1, 1, 0, 0, 1, 0, 1, 1, 0, 0], [1, 0, 1, 0, 1, 0, 0, 0, 0, 1, 1, 1, 0, 1, 1, 0], [1, 1, 0, 0, 1, 0, 0, 1, 0, 0, 1, 1, 1, 1, 0, 0], [1, 0, 0, 0, 1, 0, 0, 0, 1, 1, 1, 0, 0, 1, 1, 1], [1, 1, 0, 0, 1, 0, 0, 1, 0, 1, 1, 1, 0, 1, 1, 0], [1, 0, 1, 0, 0, 1, 1, 0, 0, 0, 0, 1, 1, 1, 1, 0], [1, 0, 1, 1, 0, 0, 0, 0, 1, 1, 0, 1, 1, 1, 0, 0], [0, 0, 1, 0, 0, 0, 0, 0, 1, 1, 0, 1, 0, 0, 1, 1], [1, 0, 0, 0, 0, 1, 0, 0, 1, 1, 0, 1, 0, 0, 1, 1], [0, 0, 1, 0, 0, 0, 1, 1, 1, 1, 0, 0, 0, 1, 0, 0], [0, 0, 0, 0, 1, 0, 0, 1, 1, 0, 1, 0, 1, 0, 1, 0], [1, 0, 1, 1, 0, 1, 1, 0, 0, 1, 0, 0, 1, 0, 0, 1]]\n"
     ]
    }
   ],
   "source": [
    "#Leemos el problema\n",
    "[N,P,W,values] = leerCSV()\n",
    "#Inicializamos poblacion\n",
    "population = initialPopulation(values,N,P,W)\n",
    "#Inicializamos parametros\n",
    "G0 = 100.0\n",
    "v=list(np.zeros((P, N)))\n",
    "best = []\n",
    "worst = []\n",
    "M=[]\n",
    "F = []\n",
    "a=[]\n",
    "e=0.5\n",
    "maxIter = (N//2)+ P\n",
    "alpha = maxIter*0.2\n",
    "print('N: ',N)\n",
    "print('P: ',P)\n",
    "print('W: ',W)\n",
    "print(\"Poblacion: \",population)"
   ]
  },
  {
   "cell_type": "markdown",
   "id": "b7ffce3c-2546-45ec-a17b-dde94227642a",
   "metadata": {},
   "source": [
    "## Ciclo del algoritmo GSA"
   ]
  },
  {
   "cell_type": "code",
   "execution_count": 31,
   "id": "a70ab5af-65f5-4830-8696-fcc7ea6cc16a",
   "metadata": {},
   "outputs": [
    {
     "ename": "KeyboardInterrupt",
     "evalue": "",
     "output_type": "error",
     "traceback": [
      "\u001b[1;31m---------------------------------------------------------------------------\u001b[0m",
      "\u001b[1;31mKeyboardInterrupt\u001b[0m                         Traceback (most recent call last)",
      "\u001b[1;32m<timed exec>\u001b[0m in \u001b[0;36m<module>\u001b[1;34m\u001b[0m\n",
      "\u001b[1;32m<ipython-input-25-f875c37e7b72>\u001b[0m in \u001b[0;36mcalcularFuerzas\u001b[1;34m(P, N, G, M, population, e)\u001b[0m\n\u001b[0;32m     26\u001b[0m                 \u001b[1;32mif\u001b[0m \u001b[0mj\u001b[0m \u001b[1;33m!=\u001b[0m \u001b[0mi\u001b[0m \u001b[1;33m:\u001b[0m\u001b[1;33m\u001b[0m\u001b[1;33m\u001b[0m\u001b[0m\n\u001b[0;32m     27\u001b[0m                     \u001b[0mr\u001b[0m \u001b[1;33m=\u001b[0m \u001b[0mrandom\u001b[0m\u001b[1;33m.\u001b[0m\u001b[0mrandom\u001b[0m\u001b[1;33m(\u001b[0m\u001b[1;33m)\u001b[0m\u001b[1;33m\u001b[0m\u001b[1;33m\u001b[0m\u001b[0m\n\u001b[1;32m---> 28\u001b[1;33m                     \u001b[0mvalue\u001b[0m \u001b[1;33m=\u001b[0m \u001b[0mvalue\u001b[0m \u001b[1;33m+\u001b[0m\u001b[1;33m(\u001b[0m\u001b[0mr\u001b[0m\u001b[1;33m*\u001b[0m\u001b[0mnp\u001b[0m\u001b[1;33m.\u001b[0m\u001b[0marray\u001b[0m\u001b[1;33m(\u001b[0m\u001b[0mFT\u001b[0m\u001b[1;33m)\u001b[0m\u001b[1;33m[\u001b[0m\u001b[0mi\u001b[0m\u001b[1;33m,\u001b[0m\u001b[0mj\u001b[0m\u001b[1;33m,\u001b[0m\u001b[0md\u001b[0m\u001b[1;33m]\u001b[0m\u001b[1;33m)\u001b[0m\u001b[1;33m\u001b[0m\u001b[1;33m\u001b[0m\u001b[0m\n\u001b[0m\u001b[0;32m     29\u001b[0m             \u001b[0mf\u001b[0m\u001b[1;33m.\u001b[0m\u001b[0mappend\u001b[0m\u001b[1;33m(\u001b[0m\u001b[0mvalue\u001b[0m\u001b[1;33m)\u001b[0m\u001b[1;33m\u001b[0m\u001b[1;33m\u001b[0m\u001b[0m\n\u001b[0;32m     30\u001b[0m         \u001b[0mF\u001b[0m\u001b[1;33m.\u001b[0m\u001b[0mappend\u001b[0m\u001b[1;33m(\u001b[0m\u001b[0mf\u001b[0m\u001b[1;33m)\u001b[0m\u001b[1;33m\u001b[0m\u001b[1;33m\u001b[0m\u001b[0m\n",
      "\u001b[1;31mKeyboardInterrupt\u001b[0m: "
     ]
    }
   ],
   "source": [
    "%%time\n",
    "#INICIO\n",
    "for i in range(maxIter):\n",
    "    #Calculamos fitness\n",
    "    fitness = calcularFitness(population,values,N,P)\n",
    "    # print(\"fitness: \",fitness)\n",
    "    #Actualizamos G,best y worst\n",
    "    G = actualizarG(i,G0,alpha,maxIter)\n",
    "    # print(\"G: \",G)\n",
    "    b = max(fitness)\n",
    "    best = fitness.index(b)\n",
    "    w = min(fitness)\n",
    "    worst = fitness.index(w)\n",
    "    # print('Best: ' + str(population[best]) + str(fitness[best]))\n",
    "    # print('Worst: '+ str(population[worst]) + str(fitness[worst]))\n",
    "    #Imprimimos la media y la desviacion estandar de los fitness\n",
    "    # print('Media de Fitness: ',np.mean(fitness))\n",
    "    # print('Desviacion estandar: ',np.std(fitness))\n",
    "    #Actualizamos Masas(M), Fuerzas(Fid), aceleraciones(aid) y velocidades(vid)\n",
    "    M = calcularMasas(fitness,b,w,P)\n",
    "    # print(\"Masas: \",M)\n",
    "    F = calcularFuerzas(P,N,G,M,population,e)\n",
    "    # print(\"Fuerzas sobre cada agente: \")\n",
    "    # print(np.array(F))\n",
    "    a = calcularAceleracion(P,N,M,F)\n",
    "    # print(\"Aceleracion: \",a)\n",
    "    v = calcularVelocidad(P,N,v,a)\n",
    "    # print(\"Velocidad: \",v)\n",
    "    #Actualizamos posiciones (xid)\n",
    "    population = calcularPosiciones(P,N,population,v,values,W)\n",
    "    #Mostramos Nueva Poblacion\n",
    "    # print(\"-------------------------------------------------------------------\")\n",
    "    # print(\"Nueva Poblacion: \",population)\n",
    "\n",
    "#FIN"
   ]
  },
  {
   "cell_type": "markdown",
   "id": "0ee298db-ebea-4cb2-9a89-0630ce2d8fcd",
   "metadata": {},
   "source": [
    "## Imprimimos resultados"
   ]
  },
  {
   "cell_type": "code",
   "execution_count": 32,
   "id": "dc218f10-15f7-42da-ba8c-5c357f66872b",
   "metadata": {},
   "outputs": [
    {
     "name": "stdout",
     "output_type": "stream",
     "text": [
      "Best: [1, 0, 0, 0, 1, 0, 1, 1, 1, 1, 1, 1, 1, 1, 0, 1]74\n",
      "Worst: [0, 1, 0, 0, 0, 1, 0, 0, 1, 0, 1, 0, 0, 0, 0, 0]21\n"
     ]
    }
   ],
   "source": [
    "print('Best: ' + str(population[best]) + str(fitness[best]))\n",
    "print('Worst: '+ str(population[worst]) + str(fitness[worst]))"
   ]
  },
  {
   "cell_type": "code",
   "execution_count": null,
   "id": "6aab4e06-4d00-4bee-89a5-9a5414a2fc37",
   "metadata": {},
   "outputs": [],
   "source": []
  },
  {
   "cell_type": "code",
   "execution_count": null,
   "id": "f53086bb-ce34-44ed-ae54-169f752f3a1c",
   "metadata": {},
   "outputs": [],
   "source": []
  }
 ],
 "metadata": {
  "kernelspec": {
   "display_name": "Python 3",
   "language": "python",
   "name": "python3"
  },
  "language_info": {
   "codemirror_mode": {
    "name": "ipython",
    "version": 3
   },
   "file_extension": ".py",
   "mimetype": "text/x-python",
   "name": "python",
   "nbconvert_exporter": "python",
   "pygments_lexer": "ipython3",
   "version": "3.8.8"
  }
 },
 "nbformat": 4,
 "nbformat_minor": 5
}
